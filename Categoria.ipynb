{
  "nbformat": 4,
  "nbformat_minor": 0,
  "metadata": {
    "colab": {
      "name": "Categoria.ipynb",
      "provenance": []
    },
    "kernelspec": {
      "name": "python3",
      "display_name": "Python 3"
    },
    "language_info": {
      "name": "python"
    }
  },
  "cells": [
    {
      "cell_type": "code",
      "execution_count": null,
      "metadata": {
        "id": "IZ5RvZPAIuDo"
      },
      "outputs": [],
      "source": [
        ""
      ]
    },
    {
      "cell_type": "code",
      "execution_count": null,
      "metadata": {
        "id": "-2_6adonGzTo"
      },
      "outputs": [],
      "source": [
        "import matplotlib.pyplot as plt\n",
        "import matplotlib.colors as mcl\n",
        "import pandas as pd\n",
        "\n",
        "dataSell = pd.read_csv(\"/content/drive/MyDrive/NUCLIO/Nuclio-Capstone/data_dsmarket/data_dsmarket/item_sales.csv\")\n"
      ]
    },
    {
      "cell_type": "code",
      "source": [
        "# función para relacionar días semana\n",
        "def days2week(days):\n",
        "   weekStart = 201105\n",
        "   dayStart = \"Saturday\"\n",
        "   dayStartInt = 0\n",
        "\n",
        "   lastWeekYear = {}\n",
        "   lastWeekYear[2011] = 52\n",
        "   lastWeekYear[2012] = 53\n",
        "   lastWeekYear[2013] = 52\n",
        "   lastWeekYear[2014] = 52\n",
        "   lastWeekYear[2015] = 52\n",
        "   lastWeekYear[2016] = 52\n",
        "\n",
        "   weekDays = 7\n",
        "\n",
        "   week = weekStart\n",
        "   dayInt = dayStartInt\n",
        "\n",
        "   days2week = {}\n",
        "   nDays = days\n",
        "   for i in range(1, nDays + 1):\n",
        "     days2week[i] = week\n",
        "     dayInt += 1\n",
        "     #print(dayInt)\n",
        "     if dayInt == 7:\n",
        "       dayInt = 0\n",
        "       #print(dayInt)\n",
        "       week += 1\n",
        "\n",
        "       currentYear = int(str(week)[0:4])\n",
        "       currentWeek = int(str(week)[4:])\n",
        "\n",
        "       if (lastWeekYear[currentYear] == currentWeek):\n",
        "         week = (currentYear + 1) * 100 \n",
        "\n",
        "\n",
        "   return days2week\n",
        "\n",
        "d2Week=days2week(1913)"
      ],
      "metadata": {
        "id": "oA4tt94eHA8m"
      },
      "execution_count": null,
      "outputs": []
    },
    {
      "cell_type": "code",
      "source": [
        "dataCol = dataSell.columns\n",
        "\n",
        "dayCol = [col for col in dataCol if 'd_' in col]\n",
        "noDayCol = [col for col in dataCol if not 'd_' in col]\n",
        "noDayCol"
      ],
      "metadata": {
        "colab": {
          "base_uri": "https://localhost:8080/"
        },
        "id": "_9WrH-mZHwrB",
        "outputId": "344a4e52-fa69-4c2d-aae1-75bb7e46e3ab"
      },
      "execution_count": null,
      "outputs": [
        {
          "output_type": "execute_result",
          "data": {
            "text/plain": [
              "['id', 'item', 'category', 'department', 'store', 'store_code', 'region']"
            ]
          },
          "metadata": {},
          "execution_count": 11
        }
      ]
    },
    {
      "cell_type": "code",
      "source": [
        "#Pasamos días de col a filas\n",
        "dataSell = dataSell.melt(id_vars = noDayCol,\n",
        "                 var_name = \"day\",\n",
        "                 value_name = \"sell\")"
      ],
      "metadata": {
        "id": "P5Owof-5HMXj"
      },
      "execution_count": null,
      "outputs": []
    },
    {
      "cell_type": "code",
      "source": [
        "# Para todas las tiendas agrupamos por item y día\n",
        "dataSell = dataSell.groupby(['category', 'day']).sum().reset_index()"
      ],
      "metadata": {
        "id": "EbjK9K8SIN5f"
      },
      "execution_count": null,
      "outputs": []
    },
    {
      "cell_type": "code",
      "source": [
        "# Pasamos los días a numéricos\n",
        "dataSell['day'] = dataSell['day'].str[2:]\n",
        "dataSell"
      ],
      "metadata": {
        "colab": {
          "base_uri": "https://localhost:8080/",
          "height": 424
        },
        "id": "Jls5TJscHHqb",
        "outputId": "0949683b-154b-4f86-f173-58885ec88c12"
      },
      "execution_count": null,
      "outputs": [
        {
          "output_type": "execute_result",
          "data": {
            "text/html": [
              "\n",
              "  <div id=\"df-a2561a0f-d2f0-4db8-82d8-5b40af60d8f9\">\n",
              "    <div class=\"colab-df-container\">\n",
              "      <div>\n",
              "<style scoped>\n",
              "    .dataframe tbody tr th:only-of-type {\n",
              "        vertical-align: middle;\n",
              "    }\n",
              "\n",
              "    .dataframe tbody tr th {\n",
              "        vertical-align: top;\n",
              "    }\n",
              "\n",
              "    .dataframe thead th {\n",
              "        text-align: right;\n",
              "    }\n",
              "</style>\n",
              "<table border=\"1\" class=\"dataframe\">\n",
              "  <thead>\n",
              "    <tr style=\"text-align: right;\">\n",
              "      <th></th>\n",
              "      <th>department</th>\n",
              "      <th>day</th>\n",
              "      <th>sell</th>\n",
              "    </tr>\n",
              "  </thead>\n",
              "  <tbody>\n",
              "    <tr>\n",
              "      <th>0</th>\n",
              "      <td>ACCESORIES_1</td>\n",
              "      <td>1</td>\n",
              "      <td>3610</td>\n",
              "    </tr>\n",
              "    <tr>\n",
              "      <th>1</th>\n",
              "      <td>ACCESORIES_1</td>\n",
              "      <td>10</td>\n",
              "      <td>2514</td>\n",
              "    </tr>\n",
              "    <tr>\n",
              "      <th>2</th>\n",
              "      <td>ACCESORIES_1</td>\n",
              "      <td>100</td>\n",
              "      <td>2714</td>\n",
              "    </tr>\n",
              "    <tr>\n",
              "      <th>3</th>\n",
              "      <td>ACCESORIES_1</td>\n",
              "      <td>1000</td>\n",
              "      <td>2876</td>\n",
              "    </tr>\n",
              "    <tr>\n",
              "      <th>4</th>\n",
              "      <td>ACCESORIES_1</td>\n",
              "      <td>1001</td>\n",
              "      <td>3101</td>\n",
              "    </tr>\n",
              "    <tr>\n",
              "      <th>...</th>\n",
              "      <td>...</td>\n",
              "      <td>...</td>\n",
              "      <td>...</td>\n",
              "    </tr>\n",
              "    <tr>\n",
              "      <th>13386</th>\n",
              "      <td>SUPERMARKET_3</td>\n",
              "      <td>995</td>\n",
              "      <td>21269</td>\n",
              "    </tr>\n",
              "    <tr>\n",
              "      <th>13387</th>\n",
              "      <td>SUPERMARKET_3</td>\n",
              "      <td>996</td>\n",
              "      <td>22381</td>\n",
              "    </tr>\n",
              "    <tr>\n",
              "      <th>13388</th>\n",
              "      <td>SUPERMARKET_3</td>\n",
              "      <td>997</td>\n",
              "      <td>16036</td>\n",
              "    </tr>\n",
              "    <tr>\n",
              "      <th>13389</th>\n",
              "      <td>SUPERMARKET_3</td>\n",
              "      <td>998</td>\n",
              "      <td>14170</td>\n",
              "    </tr>\n",
              "    <tr>\n",
              "      <th>13390</th>\n",
              "      <td>SUPERMARKET_3</td>\n",
              "      <td>999</td>\n",
              "      <td>14515</td>\n",
              "    </tr>\n",
              "  </tbody>\n",
              "</table>\n",
              "<p>13391 rows × 3 columns</p>\n",
              "</div>\n",
              "      <button class=\"colab-df-convert\" onclick=\"convertToInteractive('df-a2561a0f-d2f0-4db8-82d8-5b40af60d8f9')\"\n",
              "              title=\"Convert this dataframe to an interactive table.\"\n",
              "              style=\"display:none;\">\n",
              "        \n",
              "  <svg xmlns=\"http://www.w3.org/2000/svg\" height=\"24px\"viewBox=\"0 0 24 24\"\n",
              "       width=\"24px\">\n",
              "    <path d=\"M0 0h24v24H0V0z\" fill=\"none\"/>\n",
              "    <path d=\"M18.56 5.44l.94 2.06.94-2.06 2.06-.94-2.06-.94-.94-2.06-.94 2.06-2.06.94zm-11 1L8.5 8.5l.94-2.06 2.06-.94-2.06-.94L8.5 2.5l-.94 2.06-2.06.94zm10 10l.94 2.06.94-2.06 2.06-.94-2.06-.94-.94-2.06-.94 2.06-2.06.94z\"/><path d=\"M17.41 7.96l-1.37-1.37c-.4-.4-.92-.59-1.43-.59-.52 0-1.04.2-1.43.59L10.3 9.45l-7.72 7.72c-.78.78-.78 2.05 0 2.83L4 21.41c.39.39.9.59 1.41.59.51 0 1.02-.2 1.41-.59l7.78-7.78 2.81-2.81c.8-.78.8-2.07 0-2.86zM5.41 20L4 18.59l7.72-7.72 1.47 1.35L5.41 20z\"/>\n",
              "  </svg>\n",
              "      </button>\n",
              "      \n",
              "  <style>\n",
              "    .colab-df-container {\n",
              "      display:flex;\n",
              "      flex-wrap:wrap;\n",
              "      gap: 12px;\n",
              "    }\n",
              "\n",
              "    .colab-df-convert {\n",
              "      background-color: #E8F0FE;\n",
              "      border: none;\n",
              "      border-radius: 50%;\n",
              "      cursor: pointer;\n",
              "      display: none;\n",
              "      fill: #1967D2;\n",
              "      height: 32px;\n",
              "      padding: 0 0 0 0;\n",
              "      width: 32px;\n",
              "    }\n",
              "\n",
              "    .colab-df-convert:hover {\n",
              "      background-color: #E2EBFA;\n",
              "      box-shadow: 0px 1px 2px rgba(60, 64, 67, 0.3), 0px 1px 3px 1px rgba(60, 64, 67, 0.15);\n",
              "      fill: #174EA6;\n",
              "    }\n",
              "\n",
              "    [theme=dark] .colab-df-convert {\n",
              "      background-color: #3B4455;\n",
              "      fill: #D2E3FC;\n",
              "    }\n",
              "\n",
              "    [theme=dark] .colab-df-convert:hover {\n",
              "      background-color: #434B5C;\n",
              "      box-shadow: 0px 1px 3px 1px rgba(0, 0, 0, 0.15);\n",
              "      filter: drop-shadow(0px 1px 2px rgba(0, 0, 0, 0.3));\n",
              "      fill: #FFFFFF;\n",
              "    }\n",
              "  </style>\n",
              "\n",
              "      <script>\n",
              "        const buttonEl =\n",
              "          document.querySelector('#df-a2561a0f-d2f0-4db8-82d8-5b40af60d8f9 button.colab-df-convert');\n",
              "        buttonEl.style.display =\n",
              "          google.colab.kernel.accessAllowed ? 'block' : 'none';\n",
              "\n",
              "        async function convertToInteractive(key) {\n",
              "          const element = document.querySelector('#df-a2561a0f-d2f0-4db8-82d8-5b40af60d8f9');\n",
              "          const dataTable =\n",
              "            await google.colab.kernel.invokeFunction('convertToInteractive',\n",
              "                                                     [key], {});\n",
              "          if (!dataTable) return;\n",
              "\n",
              "          const docLinkHtml = 'Like what you see? Visit the ' +\n",
              "            '<a target=\"_blank\" href=https://colab.research.google.com/notebooks/data_table.ipynb>data table notebook</a>'\n",
              "            + ' to learn more about interactive tables.';\n",
              "          element.innerHTML = '';\n",
              "          dataTable['output_type'] = 'display_data';\n",
              "          await google.colab.output.renderOutput(dataTable, element);\n",
              "          const docLink = document.createElement('div');\n",
              "          docLink.innerHTML = docLinkHtml;\n",
              "          element.appendChild(docLink);\n",
              "        }\n",
              "      </script>\n",
              "    </div>\n",
              "  </div>\n",
              "  "
            ],
            "text/plain": [
              "          department   day   sell\n",
              "0       ACCESORIES_1     1   3610\n",
              "1       ACCESORIES_1    10   2514\n",
              "2       ACCESORIES_1   100   2714\n",
              "3       ACCESORIES_1  1000   2876\n",
              "4       ACCESORIES_1  1001   3101\n",
              "...              ...   ...    ...\n",
              "13386  SUPERMARKET_3   995  21269\n",
              "13387  SUPERMARKET_3   996  22381\n",
              "13388  SUPERMARKET_3   997  16036\n",
              "13389  SUPERMARKET_3   998  14170\n",
              "13390  SUPERMARKET_3   999  14515\n",
              "\n",
              "[13391 rows x 3 columns]"
            ]
          },
          "metadata": {},
          "execution_count": 14
        }
      ]
    },
    {
      "cell_type": "code",
      "source": [
        "# Relacionamos días-semana\n",
        "weekCol = []\n",
        "for row in dataSell[\"day\"]:\n",
        "  weekCol.append(d2Week[int(row)])\n",
        "\n",
        "dataSell[\"week\"] = weekCol"
      ],
      "metadata": {
        "id": "qBknnRD9HPpM"
      },
      "execution_count": null,
      "outputs": []
    },
    {
      "cell_type": "code",
      "source": [
        "dataSell = dataSell.groupby(['category', 'week']).sum().reset_index()"
      ],
      "metadata": {
        "id": "JjDKgspmHSD7"
      },
      "execution_count": null,
      "outputs": []
    },
    {
      "cell_type": "code",
      "source": [
        "#Pintamos por departamentos\n",
        "x = dataSell['week'].to_numpy()\n",
        "y = dataSell['sell'].to_numpy()\n",
        "z = dataSell['category'].to_numpy()\n",
        "\n",
        "import numpy as np\n",
        "zUniq = np.unique(z)\n",
        "\n",
        "colorLegend = {}\n",
        "fig = plt.figure(figsize=(25,10))\n",
        "ax = plt.gca()\n",
        "for i in range(len(zUniq)):\n",
        "  x = dataSell.loc[dataSell['category'] == zUniq[i], 'week'].to_numpy()\n",
        "  y = dataSell.loc[dataSell['category'] == zUniq[i], 'sell'].to_numpy()\n",
        "  plt.plot(x, y, '-o')\n",
        "  colorLegend[zUniq[i]] = ax.get_lines()[-1].get_color()\n",
        "ax.legend(labels = zUniq)"
      ],
      "metadata": {
        "id": "kZH7ghk-HU09"
      },
      "execution_count": null,
      "outputs": []
    }
  ]
}